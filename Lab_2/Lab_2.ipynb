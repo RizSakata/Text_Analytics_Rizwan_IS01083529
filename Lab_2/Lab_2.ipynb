{
 "cells": [
  {
   "cell_type": "code",
   "execution_count": 11,
   "id": "a3e43847-45e7-492d-8508-c49d3ff80567",
   "metadata": {},
   "outputs": [],
   "source": [
    "import re"
   ]
  },
  {
   "cell_type": "code",
   "execution_count": 17,
   "id": "9d1734f8-026c-4b08-a368-2b3fd833f0e7",
   "metadata": {},
   "outputs": [
    {
     "name": "stdout",
     "output_type": "stream",
     "text": [
      "Digits found: ['2', '4', '5', '6', '7', '8', '9', '3', '4', '1', '2', '3', '0']\n"
     ]
    }
   ],
   "source": [
    "# Write a Python program that extracts all digits from the following text. \n",
    "text = \"Order number: 24567, Tracking ID: 8934A12, Quantity: 30\" \n",
    "# Write your regular expression here \n",
    "pattern = r\"\\d\"\n",
    "matches = re.findall(pattern, text) \n",
    "print(\"Digits found:\", matches) "
   ]
  },
  {
   "cell_type": "code",
   "execution_count": 19,
   "id": "bf14d5da-4b47-43fd-bd33-57b54d27ffd8",
   "metadata": {},
   "outputs": [
    {
     "name": "stdout",
     "output_type": "stream",
     "text": [
      "Non-alphanumeric characters: ['!', ' ', \"'\", ' ', ' ', ' ', '?', ' ', ' ', ' ', '@', ' ', '.']\n"
     ]
    }
   ],
   "source": [
    "# Extract all non-alphanumeric characters (spaces, punctuation, etc.) from the text. \n",
    "text = \"Welcome! How's your day going? Call me @ 3pm.\" \n",
    "pattern = r\"\\W\"\n",
    "matches = re.findall(pattern, text) \n",
    "print(\"Non-alphanumeric characters:\", matches) "
   ]
  },
  {
   "cell_type": "code",
   "execution_count": 33,
   "id": "d26ca216-5e53-474a-8ff8-75b3635d7c6d",
   "metadata": {},
   "outputs": [
    {
     "name": "stdout",
     "output_type": "stream",
     "text": [
      "Split text: ['Data Science', ' AI', ' and Machine Learning', ' These fields are growing fast', '']\n"
     ]
    }
   ],
   "source": [
    "# Split the text at commas and periods. \n",
    "text = \"Data Science, AI, and Machine Learning. These fields are growing fast.\" \n",
    "pattern = r'[,.]'\n",
    "split_text = re.split(pattern, text) \n",
    "print(\"Split text:\", split_text) "
   ]
  },
  {
   "cell_type": "code",
   "execution_count": 97,
   "id": "101cecdc-e64f-4137-8089-4adb3aff1854",
   "metadata": {},
   "outputs": [
    {
     "name": "stdout",
     "output_type": "stream",
     "text": [
      "Anonymized text: Contact us at [HIDDEN] or [HIDDEN]\n"
     ]
    }
   ],
   "source": [
    "# Replace email addresses with [HIDDEN]. \n",
    "text = \"Contact us at support@example.com or info@company.org\" \n",
    "pattern = r'\\S+@\\S+'\n",
    "new_text = re.sub(pattern, \"[HIDDEN]\", text) \n",
    "print(\"Anonymized text:\", new_text) "
   ]
  },
  {
   "cell_type": "code",
   "execution_count": 81,
   "id": "605ded59-644b-4deb-b651-db7b35cac62a",
   "metadata": {},
   "outputs": [
    {
     "name": "stdout",
     "output_type": "stream",
     "text": [
      "Domain types: ['com', 'edu', 'org']\n"
     ]
    }
   ],
   "source": [
    "# Extract only the domain types (e.g., com, org, edu) from email addresses. \n",
    "text = \"Emails: user@gmail.com, admin@university.edu, info@company.org\" \n",
    "pattern = r'@\\w+.(\\w+.\\w+)'\n",
    "matches = re.findall(pattern, text) \n",
    "print(\"Domain types:\", matches) "
   ]
  },
  {
   "cell_type": "code",
   "execution_count": null,
   "id": "feb25522-f810-407e-b4e5-60cee60db86d",
   "metadata": {},
   "outputs": [],
   "source": []
  }
 ],
 "metadata": {
  "kernelspec": {
   "display_name": "Python [conda env:base] *",
   "language": "python",
   "name": "conda-base-py"
  },
  "language_info": {
   "codemirror_mode": {
    "name": "ipython",
    "version": 3
   },
   "file_extension": ".py",
   "mimetype": "text/x-python",
   "name": "python",
   "nbconvert_exporter": "python",
   "pygments_lexer": "ipython3",
   "version": "3.12.7"
  }
 },
 "nbformat": 4,
 "nbformat_minor": 5
}
