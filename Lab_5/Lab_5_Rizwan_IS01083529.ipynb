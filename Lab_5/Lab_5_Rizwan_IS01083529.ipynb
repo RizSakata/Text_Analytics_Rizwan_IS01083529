{
 "cells": [
  {
   "cell_type": "code",
   "execution_count": 1,
   "id": "b066ab51-130e-4794-b74b-f374dd19510b",
   "metadata": {},
   "outputs": [],
   "source": [
    "from collections import Counter #count word occurrences \n",
    "import pandas as pd "
   ]
  },
  {
   "cell_type": "code",
   "execution_count": 3,
   "id": "600eb007-7bf0-43d4-a909-1b4b4bdd4d40",
   "metadata": {},
   "outputs": [],
   "source": [
    "file_path = \"Processed_Reviews.csv\" \n",
    "df = pd.read_csv(file_path)"
   ]
  },
  {
   "cell_type": "code",
   "execution_count": 5,
   "id": "46bc5af3-645e-46ca-89e2-40db19267c33",
   "metadata": {},
   "outputs": [],
   "source": [
    "tokenized_reviews = df['tokenized'].dropna().apply(eval)"
   ]
  },
  {
   "cell_type": "code",
   "execution_count": 7,
   "id": "b1a26fda-807c-4283-a6ca-0101c975e086",
   "metadata": {},
   "outputs": [],
   "source": [
    "all_words = [word for review in tokenized_reviews for word in review] \n",
    "unique_words = list(set(all_words)) "
   ]
  },
  {
   "cell_type": "code",
   "execution_count": 15,
   "id": "7bf683ca-baa5-4693-8570-5a02ea91d917",
   "metadata": {},
   "outputs": [],
   "source": [
    "word_freq = Counter(all_words)\n",
    "sorted_word_freq = dict(sorted(word_freq.items(), key=lambda item: item[1], reverse=True)) "
   ]
  },
  {
   "cell_type": "code",
   "execution_count": 17,
   "id": "bc2d8ab6-e036-4d44-aece-459a8ba58549",
   "metadata": {},
   "outputs": [],
   "source": [
    "document_vectors = [] \n",
    "for review in tokenized_reviews: \n",
    "    document_vector = [1 if word in review else 0 for word in sorted_word_freq.keys()] \n",
    "    document_vectors.append(document_vector) "
   ]
  },
  {
   "cell_type": "code",
   "execution_count": 19,
   "id": "46ef13d8-04af-415e-b4ce-165fb630cf78",
   "metadata": {},
   "outputs": [],
   "source": [
    "doc_vectors_df = pd.DataFrame(document_vectors, columns=sorted_word_freq.keys())"
   ]
  },
  {
   "cell_type": "code",
   "execution_count": 21,
   "id": "0569aa2d-b5e5-4005-9d90-498e0b9fc05c",
   "metadata": {},
   "outputs": [],
   "source": [
    "doc_vectors_df.to_csv(\"document_vectors.csv\", index=False) "
   ]
  },
  {
   "cell_type": "code",
   "execution_count": 25,
   "id": "367db810-c62a-4991-9dda-3c64cd988389",
   "metadata": {},
   "outputs": [
    {
     "name": "stdout",
     "output_type": "stream",
     "text": [
      "Word Frequency Table:\n",
      "           Word  Frequency\n",
      "0       product          7\n",
      "1       quality          3\n",
      "2         great          2\n",
      "3       amazing          2\n",
      "4          love          2\n",
      "5       awesome          2\n",
      "6          work          2\n",
      "7     perfectly          2\n",
      "8          life          2\n",
      "9        expect          2\n",
      "10       arrive          1\n",
      "11         time          1\n",
      "12    packaging          1\n",
      "13        amaze          1\n",
      "14          buy          1\n",
      "15        phone          1\n",
      "16           hz          1\n",
      "17      display          1\n",
      "18      totally          1\n",
      "19        worth          1\n",
      "20          wow          1\n",
      "21          bit          1\n",
      "22    expensive          1\n",
      "23       laptop          1\n",
      "24         fine          1\n",
      "25        check          1\n",
      "26         full          1\n",
      "27       detail          1\n",
      "28     purchase          1\n",
      "29        happy          1\n",
      "30      battery          1\n",
      "31    excellent          1\n",
      "32       charge          1\n",
      "33        cable          1\n",
      "34        short          1\n",
      "35          can          1\n",
      "36          not          1\n",
      "37      believe          1\n",
      "38         good          1\n",
      "39         fast          1\n",
      "40     delivery          1\n",
      "41       honest          1\n",
      "42         much          1\n",
      "43           oh          1\n",
      "44          god          1\n",
      "45         best          1\n",
      "46         ever          1\n",
      "47          use          1\n",
      "48         shoe          1\n",
      "49  comfortable          1\n",
      "50          fit          1\n",
      "51       nicely          1\n",
      "52          jog          1\n"
     ]
    }
   ],
   "source": [
    "word_freq_df = pd.DataFrame(list(sorted_word_freq.items()), columns=[\"Word\", \"Frequency\"]) \n",
    "print(\"Word Frequency Table:\") \n",
    "print(word_freq_df) "
   ]
  },
  {
   "cell_type": "code",
   "execution_count": 27,
   "id": "88e7d094-6064-480f-b06e-ece556082755",
   "metadata": {},
   "outputs": [],
   "source": [
    "import pandas as pd \n",
    "import math # use for log function \n",
    "from collections import Counter "
   ]
  },
  {
   "cell_type": "code",
   "execution_count": 29,
   "id": "a51fea24-8fc8-406f-b0b9-8419b18fc85f",
   "metadata": {},
   "outputs": [],
   "source": [
    "file_path = \"Processed_Reviews.csv\" \n",
    "df = pd.read_csv(file_path) "
   ]
  },
  {
   "cell_type": "code",
   "execution_count": 31,
   "id": "32a0490a-fba5-4ccc-8e5e-f2e1f95eeac8",
   "metadata": {},
   "outputs": [],
   "source": [
    "tokenized_reviews = df['tokenized'].dropna().apply(eval) "
   ]
  },
  {
   "cell_type": "code",
   "execution_count": 33,
   "id": "87ae4532-18c1-4335-8567-448fbe0fa967",
   "metadata": {},
   "outputs": [],
   "source": [
    "def compute_tf(document): \n",
    "    word_count = Counter(document) \n",
    "    tf = {word: count / len(document) for word, count in word_count.items()} \n",
    "    return tf "
   ]
  },
  {
   "cell_type": "code",
   "execution_count": 35,
   "id": "5b80bbe6-effc-46fa-b848-bc6e8b42c0fc",
   "metadata": {},
   "outputs": [],
   "source": [
    "def compute_idf(documents): \n",
    "    N = len(documents)  # Total number of documents \n",
    "    idf = {} \n",
    "    all_words = set(word for doc in documents for word in doc)  # Unique words \n",
    "    for word in all_words: \n",
    "        count = sum(1 for doc in documents if word in doc) \n",
    "        idf[word] = math.log(N / count) \n",
    "    return idf "
   ]
  },
  {
   "cell_type": "code",
   "execution_count": 37,
   "id": "9e990909-dde3-4e6d-a0d3-ef088dd07a2a",
   "metadata": {},
   "outputs": [],
   "source": [
    "def compute_tfidf(document, idf): \n",
    "    tfidf = {} \n",
    "    tf = compute_tf(document)  # Get TF values for the document \n",
    "    for word, tf_value in tf.items(): \n",
    "        tfidf[word] = tf_value * idf[word]  # Multiply TF and IDF \n",
    "    return tfidf "
   ]
  },
  {
   "cell_type": "code",
   "execution_count": 39,
   "id": "5661d3b9-8909-4958-9fa8-a50ba279bcab",
   "metadata": {},
   "outputs": [],
   "source": [
    "documents = tokenized_reviews.tolist()"
   ]
  },
  {
   "cell_type": "code",
   "execution_count": 41,
   "id": "726091bf-f671-46d4-9404-6d3854ed77b7",
   "metadata": {},
   "outputs": [],
   "source": [
    "tf_data = [compute_tf(doc) for doc in documents] \n",
    "tf_df = pd.DataFrame(tf_data).fillna(0) \n",
    "tf_df.to_csv(\"tf_scores.csv\", index=False) "
   ]
  },
  {
   "cell_type": "code",
   "execution_count": 43,
   "id": "90a5d12c-e63a-46c8-92a5-797289391d55",
   "metadata": {},
   "outputs": [],
   "source": [
    "idf = compute_idf(documents) \n",
    "idf_df = pd.DataFrame([idf]).fillna(0) \n",
    "idf_df.to_csv(\"idf_scores.csv\", index=False) "
   ]
  },
  {
   "cell_type": "code",
   "execution_count": 45,
   "id": "09d31787-3c8a-4e4c-8641-8fb5b94bd54b",
   "metadata": {},
   "outputs": [],
   "source": [
    "tfidf_data = [compute_tfidf(doc, idf) for doc in documents] \n",
    "tfidf_df = pd.DataFrame(tfidf_data).fillna(0) \n",
    "tfidf_df.to_csv(\"tfidf_scores.csv\", index=False) "
   ]
  }
 ],
 "metadata": {
  "kernelspec": {
   "display_name": "Python [conda env:base] *",
   "language": "python",
   "name": "conda-base-py"
  },
  "language_info": {
   "codemirror_mode": {
    "name": "ipython",
    "version": 3
   },
   "file_extension": ".py",
   "mimetype": "text/x-python",
   "name": "python",
   "nbconvert_exporter": "python",
   "pygments_lexer": "ipython3",
   "version": "3.12.7"
  }
 },
 "nbformat": 4,
 "nbformat_minor": 5
}
